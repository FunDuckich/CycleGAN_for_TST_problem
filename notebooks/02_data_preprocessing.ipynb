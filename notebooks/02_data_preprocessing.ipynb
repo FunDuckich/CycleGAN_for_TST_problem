{
  "cells": [
    {
      "cell_type": "code",
      "execution_count": null,
      "metadata": {
        "id": "_VkhtfhISvJG"
      },
      "outputs": [],
      "source": [
        "import json\n",
        "import numpy\n",
        "import os\n",
        "import shutil\n",
        "import zipfile\n",
        "from google.colab import drive\n",
        "import pandas as pd\n",
        "import re\n",
        "import nltk\n",
        "from nltk.tokenize import sent_tokenize"
      ]
    },
    {
      "cell_type": "code",
      "source": [
        "nltk.download('punkt')"
      ],
      "metadata": {
        "colab": {
          "base_uri": "https://localhost:8080/"
        },
        "id": "zxIYEnHR857H",
        "outputId": "598fb562-8e8e-4f2e-962a-2f42ecb27f91"
      },
      "execution_count": null,
      "outputs": [
        {
          "output_type": "stream",
          "name": "stderr",
          "text": [
            "[nltk_data] Downloading package punkt to /root/nltk_data...\n",
            "[nltk_data]   Package punkt is already up-to-date!\n"
          ]
        },
        {
          "output_type": "execute_result",
          "data": {
            "text/plain": [
              "True"
            ]
          },
          "metadata": {},
          "execution_count": 3
        }
      ]
    },
    {
      "cell_type": "code",
      "execution_count": null,
      "metadata": {
        "colab": {
          "base_uri": "https://localhost:8080/"
        },
        "id": "frIDR3buG6ZH",
        "outputId": "2921951c-1390-4463-ad98-4b3b4e88cef9"
      },
      "outputs": [
        {
          "output_type": "stream",
          "name": "stdout",
          "text": [
            "Drive already mounted at /content/drive; to attempt to forcibly remount, call drive.mount(\"/content/drive\", force_remount=True).\n"
          ]
        }
      ],
      "source": [
        "from google.colab import drive\n",
        "drive.mount('/content/drive')"
      ]
    },
    {
      "cell_type": "markdown",
      "source": [
        "## Разархивирование книг и историй сообщений из чатов телеграм"
      ],
      "metadata": {
        "id": "IxC5_vsnOqYT"
      }
    },
    {
      "cell_type": "code",
      "source": [
        "books_path = \"/content/drive/MyDrive/CycleGAN_for_TST_problem/books_txt.zip\"\n",
        "with zipfile.ZipFile(books_path, \"r\") as zip_ref:\n",
        "    for filename in zip_ref.namelist():\n",
        "        zip_ref.extract(filename, \"/content/books\")"
      ],
      "metadata": {
        "id": "oDUx2pbd-Whq"
      },
      "execution_count": null,
      "outputs": []
    },
    {
      "cell_type": "code",
      "execution_count": null,
      "metadata": {
        "id": "cSp7t05Gkqlq"
      },
      "outputs": [],
      "source": [
        "tg_messages_path = \"/content/drive/MyDrive/CycleGAN_for_TST_problem/telegram_comments.zip\"\n",
        "with zipfile.ZipFile(tg_messages_path, \"r\") as zip_ref:\n",
        "    for filename in zip_ref.namelist():\n",
        "        if \"telegram/telegram/\" not in filename:\n",
        "            zip_ref.extract(filename, \"/content/tg\")"
      ]
    },
    {
      "cell_type": "markdown",
      "source": [
        "## Парсинг предложений из книг, небольшая предобработка и создание Pandas Series"
      ],
      "metadata": {
        "id": "DcK8N08DO2A6"
      }
    },
    {
      "cell_type": "code",
      "source": [
        "low_chars_border = 8\n",
        "high_chars_border = 200"
      ],
      "metadata": {
        "id": "YyfEcuToiaR_"
      },
      "execution_count": null,
      "outputs": []
    },
    {
      "cell_type": "code",
      "source": [
        "lit_data = set()\n",
        "all_files = os.listdir(\"/content/books/books_txt/\")\n",
        "for file in all_files:\n",
        "    file_txt = open(f\"/content/books/books_txt/{file}\")\n",
        "    data_txt = file_txt.read()\n",
        "    sentences = sent_tokenize(data_txt)\n",
        "    for sentence in sentences:\n",
        "        sentence = sentence.strip()\n",
        "        sentence = re.sub(\"[^а-яА-Я–-—,.!?:«» ]\", \"\", sentence)\n",
        "        start_removed = 0\n",
        "        while len(sentence) > 0 and sentence[0] in \"–-—,.!?:«» \":\n",
        "            start_removed += 1\n",
        "        sentence = sentence[start_removed:]\n",
        "        if low_chars_border < len(sentence) < high_chars_border:\n",
        "            lit_data.add(sentence)"
      ],
      "metadata": {
        "id": "RYF2qqLh7ewL"
      },
      "execution_count": null,
      "outputs": []
    },
    {
      "cell_type": "code",
      "source": [
        "lit = pd.Series(list(lit_data))\n",
        "lit"
      ],
      "metadata": {
        "colab": {
          "base_uri": "https://localhost:8080/",
          "height": 458
        },
        "id": "ZPY0FTZuN6-E",
        "outputId": "13d8e9d7-b78f-4db7-ea4d-59ee0afae9dd"
      },
      "execution_count": null,
      "outputs": [
        {
          "output_type": "execute_result",
          "data": {
            "text/plain": [
              "0                       Пьер с Анной Михайловной прошли в  .\n",
              "1          На пороге дома барон остановился в нерешительн...\n",
              "2                     Вся церемония продолжалась около часа.\n",
              "3          Вы, видите ли, еще, может, надумали бы дать ей...\n",
              "4          Во избежание такой неприятности я приостановил...\n",
              "                                 ...                        \n",
              "1382544              А без Ларсона Макмерфи ничего не стоит.\n",
              "1382545                                     Он приедет, сэр.\n",
              "1382546    Я вдруг почувствовал, что под холодной водой т...\n",
              "1382547    Фабрицио, со своей стороны, не мог простить се...\n",
              "1382548                                      Да, так и есть.\n",
              "Length: 1382549, dtype: object"
            ],
            "text/html": [
              "<div>\n",
              "<style scoped>\n",
              "    .dataframe tbody tr th:only-of-type {\n",
              "        vertical-align: middle;\n",
              "    }\n",
              "\n",
              "    .dataframe tbody tr th {\n",
              "        vertical-align: top;\n",
              "    }\n",
              "\n",
              "    .dataframe thead th {\n",
              "        text-align: right;\n",
              "    }\n",
              "</style>\n",
              "<table border=\"1\" class=\"dataframe\">\n",
              "  <thead>\n",
              "    <tr style=\"text-align: right;\">\n",
              "      <th></th>\n",
              "      <th>0</th>\n",
              "    </tr>\n",
              "  </thead>\n",
              "  <tbody>\n",
              "    <tr>\n",
              "      <th>0</th>\n",
              "      <td>Пьер с Анной Михайловной прошли в  .</td>\n",
              "    </tr>\n",
              "    <tr>\n",
              "      <th>1</th>\n",
              "      <td>На пороге дома барон остановился в нерешительн...</td>\n",
              "    </tr>\n",
              "    <tr>\n",
              "      <th>2</th>\n",
              "      <td>Вся церемония продолжалась около часа.</td>\n",
              "    </tr>\n",
              "    <tr>\n",
              "      <th>3</th>\n",
              "      <td>Вы, видите ли, еще, может, надумали бы дать ей...</td>\n",
              "    </tr>\n",
              "    <tr>\n",
              "      <th>4</th>\n",
              "      <td>Во избежание такой неприятности я приостановил...</td>\n",
              "    </tr>\n",
              "    <tr>\n",
              "      <th>...</th>\n",
              "      <td>...</td>\n",
              "    </tr>\n",
              "    <tr>\n",
              "      <th>1382544</th>\n",
              "      <td>А без Ларсона Макмерфи ничего не стоит.</td>\n",
              "    </tr>\n",
              "    <tr>\n",
              "      <th>1382545</th>\n",
              "      <td>Он приедет, сэр.</td>\n",
              "    </tr>\n",
              "    <tr>\n",
              "      <th>1382546</th>\n",
              "      <td>Я вдруг почувствовал, что под холодной водой т...</td>\n",
              "    </tr>\n",
              "    <tr>\n",
              "      <th>1382547</th>\n",
              "      <td>Фабрицио, со своей стороны, не мог простить се...</td>\n",
              "    </tr>\n",
              "    <tr>\n",
              "      <th>1382548</th>\n",
              "      <td>Да, так и есть.</td>\n",
              "    </tr>\n",
              "  </tbody>\n",
              "</table>\n",
              "<p>1382549 rows × 1 columns</p>\n",
              "</div><br><label><b>dtype:</b> object</label>"
            ]
          },
          "metadata": {},
          "execution_count": 34
        }
      ]
    },
    {
      "cell_type": "markdown",
      "source": [
        "## Парсинг предложений из сообщений Telegram, небольшая предобработка и создание Pandas Series"
      ],
      "metadata": {
        "id": "c7lg7yC5PB0q"
      }
    },
    {
      "cell_type": "code",
      "execution_count": null,
      "metadata": {
        "id": "gFw878bxVLol"
      },
      "outputs": [],
      "source": [
        "comnts = set()\n",
        "allFiles = os.listdir(\"/content/tg/telegram/\")\n",
        "for filename in allFiles:\n",
        "    if len(comnts) > len(lit) - 1:\n",
        "                break\n",
        "    with open(f\"/content/tg/telegram/{filename}\", 'r') as f:\n",
        "            groupedComments = json.load(f)\n",
        "            for comment in groupedComments:\n",
        "                row = comment[\"text\"]\n",
        "                sentences = sent_tokenize(row)\n",
        "                sentences = sent_tokenize(data_txt)\n",
        "                for sentence in sentences:\n",
        "                    sentence = sentence.strip()\n",
        "                    sentence = re.sub(\"[^а-яА-Я–-—,.!?:«» ]\", \"\", sentence)\n",
        "                    start_removed = 0\n",
        "                    while len(sentence) > 0 and sentence[0] in \"–-—,.!?:«» \":\n",
        "                        start_removed += 1\n",
        "                    sentence = sentence[start_removed:]\n",
        "                    if low_chars_border < len(sentence) < high_chars_border:\n",
        "                        comnts.add(sentence)\n",
        "                        if len(comnts) > len(lit) - 1:\n",
        "                            break\n",
        "                if len(comnts) > len(lit) - 1:\n",
        "                            break"
      ]
    },
    {
      "cell_type": "code",
      "source": [
        "com = pd.Series(list(comnts))\n",
        "com"
      ],
      "metadata": {
        "colab": {
          "base_uri": "https://localhost:8080/",
          "height": 458
        },
        "id": "0HV-S9SiN1bF",
        "outputId": "b3d08e09-6bc8-44c3-d9c5-212e5ecaf1cf"
      },
      "execution_count": null,
      "outputs": [
        {
          "output_type": "execute_result",
          "data": {
            "text/plain": [
              "0                       За это ему платили по  тысяч за раз.\n",
              "1                               больше почти ничего не помню\n",
              "2          ребята,срочняк косарь нужен подкинете на постр...\n",
              "3          некоторые из любопытства заходят на твою стран...\n",
              "4                               Пойду дальше рен ТВ смотреть\n",
              "                                 ...                        \n",
              "1382544                           Бульон какойнибудь хотя бы\n",
              "1382545                                    Будешь бабойрыбой\n",
              "1382546                                            где будет\n",
              "1382547                          Леш, теперь можно покупать \n",
              "1382548                                      Да, так и есть.\n",
              "Length: 1382549, dtype: object"
            ],
            "text/html": [
              "<div>\n",
              "<style scoped>\n",
              "    .dataframe tbody tr th:only-of-type {\n",
              "        vertical-align: middle;\n",
              "    }\n",
              "\n",
              "    .dataframe tbody tr th {\n",
              "        vertical-align: top;\n",
              "    }\n",
              "\n",
              "    .dataframe thead th {\n",
              "        text-align: right;\n",
              "    }\n",
              "</style>\n",
              "<table border=\"1\" class=\"dataframe\">\n",
              "  <thead>\n",
              "    <tr style=\"text-align: right;\">\n",
              "      <th></th>\n",
              "      <th>0</th>\n",
              "    </tr>\n",
              "  </thead>\n",
              "  <tbody>\n",
              "    <tr>\n",
              "      <th>0</th>\n",
              "      <td>За это ему платили по  тысяч за раз.</td>\n",
              "    </tr>\n",
              "    <tr>\n",
              "      <th>1</th>\n",
              "      <td>больше почти ничего не помню</td>\n",
              "    </tr>\n",
              "    <tr>\n",
              "      <th>2</th>\n",
              "      <td>ребята,срочняк косарь нужен подкинете на постр...</td>\n",
              "    </tr>\n",
              "    <tr>\n",
              "      <th>3</th>\n",
              "      <td>некоторые из любопытства заходят на твою стран...</td>\n",
              "    </tr>\n",
              "    <tr>\n",
              "      <th>4</th>\n",
              "      <td>Пойду дальше рен ТВ смотреть</td>\n",
              "    </tr>\n",
              "    <tr>\n",
              "      <th>...</th>\n",
              "      <td>...</td>\n",
              "    </tr>\n",
              "    <tr>\n",
              "      <th>1382544</th>\n",
              "      <td>Бульон какойнибудь хотя бы</td>\n",
              "    </tr>\n",
              "    <tr>\n",
              "      <th>1382545</th>\n",
              "      <td>Будешь бабойрыбой</td>\n",
              "    </tr>\n",
              "    <tr>\n",
              "      <th>1382546</th>\n",
              "      <td>где будет</td>\n",
              "    </tr>\n",
              "    <tr>\n",
              "      <th>1382547</th>\n",
              "      <td>Леш, теперь можно покупать</td>\n",
              "    </tr>\n",
              "    <tr>\n",
              "      <th>1382548</th>\n",
              "      <td>Да, так и есть.</td>\n",
              "    </tr>\n",
              "  </tbody>\n",
              "</table>\n",
              "<p>1382549 rows × 1 columns</p>\n",
              "</div><br><label><b>dtype:</b> object</label>"
            ]
          },
          "metadata": {},
          "execution_count": 32
        }
      ]
    },
    {
      "cell_type": "markdown",
      "source": [
        "## Объединение Pandas Series в один Pandas Dataframe, сохранение его на диск"
      ],
      "metadata": {
        "id": "1pqi2afoPRHB"
      }
    },
    {
      "cell_type": "code",
      "source": [
        "data = pd.DataFrame({\"lit_text\": lit, \"tg_text\": com})\n",
        "data"
      ],
      "metadata": {
        "colab": {
          "base_uri": "https://localhost:8080/",
          "height": 424
        },
        "id": "lo7XHnu1Ijh8",
        "outputId": "6a377477-56b1-4329-9235-cf22ecbfed28"
      },
      "execution_count": null,
      "outputs": [
        {
          "output_type": "execute_result",
          "data": {
            "text/plain": [
              "                                                  lit_text  \\\n",
              "0                     Пьер с Анной Михайловной прошли в  .   \n",
              "1        На пороге дома барон остановился в нерешительн...   \n",
              "2                   Вся церемония продолжалась около часа.   \n",
              "3        Вы, видите ли, еще, может, надумали бы дать ей...   \n",
              "4        Во избежание такой неприятности я приостановил...   \n",
              "...                                                    ...   \n",
              "1382544            А без Ларсона Макмерфи ничего не стоит.   \n",
              "1382545                                   Он приедет, сэр.   \n",
              "1382546  Я вдруг почувствовал, что под холодной водой т...   \n",
              "1382547  Фабрицио, со своей стороны, не мог простить се...   \n",
              "1382548                                    Да, так и есть.   \n",
              "\n",
              "                                                   tg_text  \n",
              "0                     За это ему платили по  тысяч за раз.  \n",
              "1                             больше почти ничего не помню  \n",
              "2        ребята,срочняк косарь нужен подкинете на постр...  \n",
              "3        некоторые из любопытства заходят на твою стран...  \n",
              "4                             Пойду дальше рен ТВ смотреть  \n",
              "...                                                    ...  \n",
              "1382544                         Бульон какойнибудь хотя бы  \n",
              "1382545                                  Будешь бабойрыбой  \n",
              "1382546                                          где будет  \n",
              "1382547                        Леш, теперь можно покупать   \n",
              "1382548                                    Да, так и есть.  \n",
              "\n",
              "[1382549 rows x 2 columns]"
            ],
            "text/html": [
              "\n",
              "  <div id=\"df-afa5b2c1-54e4-4588-823c-c1f35b103090\" class=\"colab-df-container\">\n",
              "    <div>\n",
              "<style scoped>\n",
              "    .dataframe tbody tr th:only-of-type {\n",
              "        vertical-align: middle;\n",
              "    }\n",
              "\n",
              "    .dataframe tbody tr th {\n",
              "        vertical-align: top;\n",
              "    }\n",
              "\n",
              "    .dataframe thead th {\n",
              "        text-align: right;\n",
              "    }\n",
              "</style>\n",
              "<table border=\"1\" class=\"dataframe\">\n",
              "  <thead>\n",
              "    <tr style=\"text-align: right;\">\n",
              "      <th></th>\n",
              "      <th>lit_text</th>\n",
              "      <th>tg_text</th>\n",
              "    </tr>\n",
              "  </thead>\n",
              "  <tbody>\n",
              "    <tr>\n",
              "      <th>0</th>\n",
              "      <td>Пьер с Анной Михайловной прошли в  .</td>\n",
              "      <td>За это ему платили по  тысяч за раз.</td>\n",
              "    </tr>\n",
              "    <tr>\n",
              "      <th>1</th>\n",
              "      <td>На пороге дома барон остановился в нерешительн...</td>\n",
              "      <td>больше почти ничего не помню</td>\n",
              "    </tr>\n",
              "    <tr>\n",
              "      <th>2</th>\n",
              "      <td>Вся церемония продолжалась около часа.</td>\n",
              "      <td>ребята,срочняк косарь нужен подкинете на постр...</td>\n",
              "    </tr>\n",
              "    <tr>\n",
              "      <th>3</th>\n",
              "      <td>Вы, видите ли, еще, может, надумали бы дать ей...</td>\n",
              "      <td>некоторые из любопытства заходят на твою стран...</td>\n",
              "    </tr>\n",
              "    <tr>\n",
              "      <th>4</th>\n",
              "      <td>Во избежание такой неприятности я приостановил...</td>\n",
              "      <td>Пойду дальше рен ТВ смотреть</td>\n",
              "    </tr>\n",
              "    <tr>\n",
              "      <th>...</th>\n",
              "      <td>...</td>\n",
              "      <td>...</td>\n",
              "    </tr>\n",
              "    <tr>\n",
              "      <th>1382544</th>\n",
              "      <td>А без Ларсона Макмерфи ничего не стоит.</td>\n",
              "      <td>Бульон какойнибудь хотя бы</td>\n",
              "    </tr>\n",
              "    <tr>\n",
              "      <th>1382545</th>\n",
              "      <td>Он приедет, сэр.</td>\n",
              "      <td>Будешь бабойрыбой</td>\n",
              "    </tr>\n",
              "    <tr>\n",
              "      <th>1382546</th>\n",
              "      <td>Я вдруг почувствовал, что под холодной водой т...</td>\n",
              "      <td>где будет</td>\n",
              "    </tr>\n",
              "    <tr>\n",
              "      <th>1382547</th>\n",
              "      <td>Фабрицио, со своей стороны, не мог простить се...</td>\n",
              "      <td>Леш, теперь можно покупать</td>\n",
              "    </tr>\n",
              "    <tr>\n",
              "      <th>1382548</th>\n",
              "      <td>Да, так и есть.</td>\n",
              "      <td>Да, так и есть.</td>\n",
              "    </tr>\n",
              "  </tbody>\n",
              "</table>\n",
              "<p>1382549 rows × 2 columns</p>\n",
              "</div>\n",
              "    <div class=\"colab-df-buttons\">\n",
              "\n",
              "  <div class=\"colab-df-container\">\n",
              "    <button class=\"colab-df-convert\" onclick=\"convertToInteractive('df-afa5b2c1-54e4-4588-823c-c1f35b103090')\"\n",
              "            title=\"Convert this dataframe to an interactive table.\"\n",
              "            style=\"display:none;\">\n",
              "\n",
              "  <svg xmlns=\"http://www.w3.org/2000/svg\" height=\"24px\" viewBox=\"0 -960 960 960\">\n",
              "    <path d=\"M120-120v-720h720v720H120Zm60-500h600v-160H180v160Zm220 220h160v-160H400v160Zm0 220h160v-160H400v160ZM180-400h160v-160H180v160Zm440 0h160v-160H620v160ZM180-180h160v-160H180v160Zm440 0h160v-160H620v160Z\"/>\n",
              "  </svg>\n",
              "    </button>\n",
              "\n",
              "  <style>\n",
              "    .colab-df-container {\n",
              "      display:flex;\n",
              "      gap: 12px;\n",
              "    }\n",
              "\n",
              "    .colab-df-convert {\n",
              "      background-color: #E8F0FE;\n",
              "      border: none;\n",
              "      border-radius: 50%;\n",
              "      cursor: pointer;\n",
              "      display: none;\n",
              "      fill: #1967D2;\n",
              "      height: 32px;\n",
              "      padding: 0 0 0 0;\n",
              "      width: 32px;\n",
              "    }\n",
              "\n",
              "    .colab-df-convert:hover {\n",
              "      background-color: #E2EBFA;\n",
              "      box-shadow: 0px 1px 2px rgba(60, 64, 67, 0.3), 0px 1px 3px 1px rgba(60, 64, 67, 0.15);\n",
              "      fill: #174EA6;\n",
              "    }\n",
              "\n",
              "    .colab-df-buttons div {\n",
              "      margin-bottom: 4px;\n",
              "    }\n",
              "\n",
              "    [theme=dark] .colab-df-convert {\n",
              "      background-color: #3B4455;\n",
              "      fill: #D2E3FC;\n",
              "    }\n",
              "\n",
              "    [theme=dark] .colab-df-convert:hover {\n",
              "      background-color: #434B5C;\n",
              "      box-shadow: 0px 1px 3px 1px rgba(0, 0, 0, 0.15);\n",
              "      filter: drop-shadow(0px 1px 2px rgba(0, 0, 0, 0.3));\n",
              "      fill: #FFFFFF;\n",
              "    }\n",
              "  </style>\n",
              "\n",
              "    <script>\n",
              "      const buttonEl =\n",
              "        document.querySelector('#df-afa5b2c1-54e4-4588-823c-c1f35b103090 button.colab-df-convert');\n",
              "      buttonEl.style.display =\n",
              "        google.colab.kernel.accessAllowed ? 'block' : 'none';\n",
              "\n",
              "      async function convertToInteractive(key) {\n",
              "        const element = document.querySelector('#df-afa5b2c1-54e4-4588-823c-c1f35b103090');\n",
              "        const dataTable =\n",
              "          await google.colab.kernel.invokeFunction('convertToInteractive',\n",
              "                                                    [key], {});\n",
              "        if (!dataTable) return;\n",
              "\n",
              "        const docLinkHtml = 'Like what you see? Visit the ' +\n",
              "          '<a target=\"_blank\" href=https://colab.research.google.com/notebooks/data_table.ipynb>data table notebook</a>'\n",
              "          + ' to learn more about interactive tables.';\n",
              "        element.innerHTML = '';\n",
              "        dataTable['output_type'] = 'display_data';\n",
              "        await google.colab.output.renderOutput(dataTable, element);\n",
              "        const docLink = document.createElement('div');\n",
              "        docLink.innerHTML = docLinkHtml;\n",
              "        element.appendChild(docLink);\n",
              "      }\n",
              "    </script>\n",
              "  </div>\n",
              "\n",
              "\n",
              "<div id=\"df-8a4e5332-f0d7-4bc2-8d9a-df1cad9bd92e\">\n",
              "  <button class=\"colab-df-quickchart\" onclick=\"quickchart('df-8a4e5332-f0d7-4bc2-8d9a-df1cad9bd92e')\"\n",
              "            title=\"Suggest charts\"\n",
              "            style=\"display:none;\">\n",
              "\n",
              "<svg xmlns=\"http://www.w3.org/2000/svg\" height=\"24px\"viewBox=\"0 0 24 24\"\n",
              "     width=\"24px\">\n",
              "    <g>\n",
              "        <path d=\"M19 3H5c-1.1 0-2 .9-2 2v14c0 1.1.9 2 2 2h14c1.1 0 2-.9 2-2V5c0-1.1-.9-2-2-2zM9 17H7v-7h2v7zm4 0h-2V7h2v10zm4 0h-2v-4h2v4z\"/>\n",
              "    </g>\n",
              "</svg>\n",
              "  </button>\n",
              "\n",
              "<style>\n",
              "  .colab-df-quickchart {\n",
              "      --bg-color: #E8F0FE;\n",
              "      --fill-color: #1967D2;\n",
              "      --hover-bg-color: #E2EBFA;\n",
              "      --hover-fill-color: #174EA6;\n",
              "      --disabled-fill-color: #AAA;\n",
              "      --disabled-bg-color: #DDD;\n",
              "  }\n",
              "\n",
              "  [theme=dark] .colab-df-quickchart {\n",
              "      --bg-color: #3B4455;\n",
              "      --fill-color: #D2E3FC;\n",
              "      --hover-bg-color: #434B5C;\n",
              "      --hover-fill-color: #FFFFFF;\n",
              "      --disabled-bg-color: #3B4455;\n",
              "      --disabled-fill-color: #666;\n",
              "  }\n",
              "\n",
              "  .colab-df-quickchart {\n",
              "    background-color: var(--bg-color);\n",
              "    border: none;\n",
              "    border-radius: 50%;\n",
              "    cursor: pointer;\n",
              "    display: none;\n",
              "    fill: var(--fill-color);\n",
              "    height: 32px;\n",
              "    padding: 0;\n",
              "    width: 32px;\n",
              "  }\n",
              "\n",
              "  .colab-df-quickchart:hover {\n",
              "    background-color: var(--hover-bg-color);\n",
              "    box-shadow: 0 1px 2px rgba(60, 64, 67, 0.3), 0 1px 3px 1px rgba(60, 64, 67, 0.15);\n",
              "    fill: var(--button-hover-fill-color);\n",
              "  }\n",
              "\n",
              "  .colab-df-quickchart-complete:disabled,\n",
              "  .colab-df-quickchart-complete:disabled:hover {\n",
              "    background-color: var(--disabled-bg-color);\n",
              "    fill: var(--disabled-fill-color);\n",
              "    box-shadow: none;\n",
              "  }\n",
              "\n",
              "  .colab-df-spinner {\n",
              "    border: 2px solid var(--fill-color);\n",
              "    border-color: transparent;\n",
              "    border-bottom-color: var(--fill-color);\n",
              "    animation:\n",
              "      spin 1s steps(1) infinite;\n",
              "  }\n",
              "\n",
              "  @keyframes spin {\n",
              "    0% {\n",
              "      border-color: transparent;\n",
              "      border-bottom-color: var(--fill-color);\n",
              "      border-left-color: var(--fill-color);\n",
              "    }\n",
              "    20% {\n",
              "      border-color: transparent;\n",
              "      border-left-color: var(--fill-color);\n",
              "      border-top-color: var(--fill-color);\n",
              "    }\n",
              "    30% {\n",
              "      border-color: transparent;\n",
              "      border-left-color: var(--fill-color);\n",
              "      border-top-color: var(--fill-color);\n",
              "      border-right-color: var(--fill-color);\n",
              "    }\n",
              "    40% {\n",
              "      border-color: transparent;\n",
              "      border-right-color: var(--fill-color);\n",
              "      border-top-color: var(--fill-color);\n",
              "    }\n",
              "    60% {\n",
              "      border-color: transparent;\n",
              "      border-right-color: var(--fill-color);\n",
              "    }\n",
              "    80% {\n",
              "      border-color: transparent;\n",
              "      border-right-color: var(--fill-color);\n",
              "      border-bottom-color: var(--fill-color);\n",
              "    }\n",
              "    90% {\n",
              "      border-color: transparent;\n",
              "      border-bottom-color: var(--fill-color);\n",
              "    }\n",
              "  }\n",
              "</style>\n",
              "\n",
              "  <script>\n",
              "    async function quickchart(key) {\n",
              "      const quickchartButtonEl =\n",
              "        document.querySelector('#' + key + ' button');\n",
              "      quickchartButtonEl.disabled = true;  // To prevent multiple clicks.\n",
              "      quickchartButtonEl.classList.add('colab-df-spinner');\n",
              "      try {\n",
              "        const charts = await google.colab.kernel.invokeFunction(\n",
              "            'suggestCharts', [key], {});\n",
              "      } catch (error) {\n",
              "        console.error('Error during call to suggestCharts:', error);\n",
              "      }\n",
              "      quickchartButtonEl.classList.remove('colab-df-spinner');\n",
              "      quickchartButtonEl.classList.add('colab-df-quickchart-complete');\n",
              "    }\n",
              "    (() => {\n",
              "      let quickchartButtonEl =\n",
              "        document.querySelector('#df-8a4e5332-f0d7-4bc2-8d9a-df1cad9bd92e button');\n",
              "      quickchartButtonEl.style.display =\n",
              "        google.colab.kernel.accessAllowed ? 'block' : 'none';\n",
              "    })();\n",
              "  </script>\n",
              "</div>\n",
              "    </div>\n",
              "  </div>\n"
            ],
            "application/vnd.google.colaboratory.intrinsic+json": {
              "type": "dataframe",
              "variable_name": "data"
            }
          },
          "metadata": {},
          "execution_count": 39
        }
      ]
    },
    {
      "cell_type": "code",
      "execution_count": null,
      "metadata": {
        "id": "n2CSw9N-qNKW"
      },
      "outputs": [],
      "source": [
        "data.to_csv(\"/content/drive/MyDrive/CycleGAN_for_TST_problem/data.csv\", index=False)"
      ]
    }
  ],
  "metadata": {
    "colab": {
      "provenance": [],
      "collapsed_sections": [
        "IxC5_vsnOqYT",
        "DcK8N08DO2A6",
        "c7lg7yC5PB0q",
        "1pqi2afoPRHB"
      ]
    },
    "kernelspec": {
      "display_name": "Python 3",
      "name": "python3"
    },
    "language_info": {
      "name": "python"
    }
  },
  "nbformat": 4,
  "nbformat_minor": 0
}