{
  "cells": [
    {
      "cell_type": "code",
      "execution_count": null,
      "metadata": {
        "id": "fmgA3mn_mhqd"
      },
      "outputs": [],
      "source": [
        "!pip install navec"
      ]
    },
    {
      "cell_type": "code",
      "execution_count": null,
      "metadata": {
        "id": "BithA_gpnHRq"
      },
      "outputs": [],
      "source": [
        "!wget https://storage.yandexcloud.net/natasha-navec/packs/navec_hudlit_v1_12B_500K_300d_100q.tar"
      ]
    },
    {
      "cell_type": "code",
      "execution_count": null,
      "metadata": {
        "id": "_vl80nlvGaWH"
      },
      "outputs": [],
      "source": [
        "import pandas as pd\n",
        "import numpy as np\n",
        "import torch\n",
        "from navec import Navec\n",
        "import nltk\n",
        "nltk.download('punkt_tab')\n",
        "from nltk.tokenize import word_tokenize\n",
        "from sklearn.decomposition import PCA\n",
        "from collections import Counter\n",
        "import seaborn as sb\n",
        "import matplotlib.pyplot as plt"
      ]
    },
    {
      "cell_type": "code",
      "execution_count": null,
      "metadata": {
        "id": "XQxor4FeFwv3"
      },
      "outputs": [],
      "source": [
        "from google.colab import drive\n",
        "drive.mount('/content/drive')"
      ]
    },
    {
      "cell_type": "code",
      "execution_count": null,
      "metadata": {
        "id": "ZRcXf1qfGfsd"
      },
      "outputs": [],
      "source": [
        "df = pd.read_csv(\"/content/drive/MyDrive/CycleGAN_for_TST_problem/data.csv\")"
      ]
    },
    {
      "cell_type": "code",
      "source": [
        "df.head()"
      ],
      "metadata": {
        "colab": {
          "base_uri": "https://localhost:8080/",
          "height": 206
        },
        "id": "_rDDslF7dSqU",
        "outputId": "c8e1d93d-a1e6-4ff5-ae1f-856be321edc3"
      },
      "execution_count": null,
      "outputs": [
        {
          "output_type": "execute_result",
          "data": {
            "text/plain": [
              "                                            lit_text  \\\n",
              "0               Пьер с Анной Михайловной прошли в  .   \n",
              "1  На пороге дома барон остановился в нерешительн...   \n",
              "2             Вся церемония продолжалась около часа.   \n",
              "3  Вы, видите ли, еще, может, надумали бы дать ей...   \n",
              "4  Во избежание такой неприятности я приостановил...   \n",
              "\n",
              "                                             tg_text  \n",
              "0               За это ему платили по  тысяч за раз.  \n",
              "1                       больше почти ничего не помню  \n",
              "2  ребята,срочняк косарь нужен подкинете на постр...  \n",
              "3  некоторые из любопытства заходят на твою стран...  \n",
              "4                       Пойду дальше рен ТВ смотреть  "
            ],
            "text/html": [
              "\n",
              "  <div id=\"df-15526f1d-d568-452f-8250-41c5f73f2652\" class=\"colab-df-container\">\n",
              "    <div>\n",
              "<style scoped>\n",
              "    .dataframe tbody tr th:only-of-type {\n",
              "        vertical-align: middle;\n",
              "    }\n",
              "\n",
              "    .dataframe tbody tr th {\n",
              "        vertical-align: top;\n",
              "    }\n",
              "\n",
              "    .dataframe thead th {\n",
              "        text-align: right;\n",
              "    }\n",
              "</style>\n",
              "<table border=\"1\" class=\"dataframe\">\n",
              "  <thead>\n",
              "    <tr style=\"text-align: right;\">\n",
              "      <th></th>\n",
              "      <th>lit_text</th>\n",
              "      <th>tg_text</th>\n",
              "    </tr>\n",
              "  </thead>\n",
              "  <tbody>\n",
              "    <tr>\n",
              "      <th>0</th>\n",
              "      <td>Пьер с Анной Михайловной прошли в  .</td>\n",
              "      <td>За это ему платили по  тысяч за раз.</td>\n",
              "    </tr>\n",
              "    <tr>\n",
              "      <th>1</th>\n",
              "      <td>На пороге дома барон остановился в нерешительн...</td>\n",
              "      <td>больше почти ничего не помню</td>\n",
              "    </tr>\n",
              "    <tr>\n",
              "      <th>2</th>\n",
              "      <td>Вся церемония продолжалась около часа.</td>\n",
              "      <td>ребята,срочняк косарь нужен подкинете на постр...</td>\n",
              "    </tr>\n",
              "    <tr>\n",
              "      <th>3</th>\n",
              "      <td>Вы, видите ли, еще, может, надумали бы дать ей...</td>\n",
              "      <td>некоторые из любопытства заходят на твою стран...</td>\n",
              "    </tr>\n",
              "    <tr>\n",
              "      <th>4</th>\n",
              "      <td>Во избежание такой неприятности я приостановил...</td>\n",
              "      <td>Пойду дальше рен ТВ смотреть</td>\n",
              "    </tr>\n",
              "  </tbody>\n",
              "</table>\n",
              "</div>\n",
              "    <div class=\"colab-df-buttons\">\n",
              "\n",
              "  <div class=\"colab-df-container\">\n",
              "    <button class=\"colab-df-convert\" onclick=\"convertToInteractive('df-15526f1d-d568-452f-8250-41c5f73f2652')\"\n",
              "            title=\"Convert this dataframe to an interactive table.\"\n",
              "            style=\"display:none;\">\n",
              "\n",
              "  <svg xmlns=\"http://www.w3.org/2000/svg\" height=\"24px\" viewBox=\"0 -960 960 960\">\n",
              "    <path d=\"M120-120v-720h720v720H120Zm60-500h600v-160H180v160Zm220 220h160v-160H400v160Zm0 220h160v-160H400v160ZM180-400h160v-160H180v160Zm440 0h160v-160H620v160ZM180-180h160v-160H180v160Zm440 0h160v-160H620v160Z\"/>\n",
              "  </svg>\n",
              "    </button>\n",
              "\n",
              "  <style>\n",
              "    .colab-df-container {\n",
              "      display:flex;\n",
              "      gap: 12px;\n",
              "    }\n",
              "\n",
              "    .colab-df-convert {\n",
              "      background-color: #E8F0FE;\n",
              "      border: none;\n",
              "      border-radius: 50%;\n",
              "      cursor: pointer;\n",
              "      display: none;\n",
              "      fill: #1967D2;\n",
              "      height: 32px;\n",
              "      padding: 0 0 0 0;\n",
              "      width: 32px;\n",
              "    }\n",
              "\n",
              "    .colab-df-convert:hover {\n",
              "      background-color: #E2EBFA;\n",
              "      box-shadow: 0px 1px 2px rgba(60, 64, 67, 0.3), 0px 1px 3px 1px rgba(60, 64, 67, 0.15);\n",
              "      fill: #174EA6;\n",
              "    }\n",
              "\n",
              "    .colab-df-buttons div {\n",
              "      margin-bottom: 4px;\n",
              "    }\n",
              "\n",
              "    [theme=dark] .colab-df-convert {\n",
              "      background-color: #3B4455;\n",
              "      fill: #D2E3FC;\n",
              "    }\n",
              "\n",
              "    [theme=dark] .colab-df-convert:hover {\n",
              "      background-color: #434B5C;\n",
              "      box-shadow: 0px 1px 3px 1px rgba(0, 0, 0, 0.15);\n",
              "      filter: drop-shadow(0px 1px 2px rgba(0, 0, 0, 0.3));\n",
              "      fill: #FFFFFF;\n",
              "    }\n",
              "  </style>\n",
              "\n",
              "    <script>\n",
              "      const buttonEl =\n",
              "        document.querySelector('#df-15526f1d-d568-452f-8250-41c5f73f2652 button.colab-df-convert');\n",
              "      buttonEl.style.display =\n",
              "        google.colab.kernel.accessAllowed ? 'block' : 'none';\n",
              "\n",
              "      async function convertToInteractive(key) {\n",
              "        const element = document.querySelector('#df-15526f1d-d568-452f-8250-41c5f73f2652');\n",
              "        const dataTable =\n",
              "          await google.colab.kernel.invokeFunction('convertToInteractive',\n",
              "                                                    [key], {});\n",
              "        if (!dataTable) return;\n",
              "\n",
              "        const docLinkHtml = 'Like what you see? Visit the ' +\n",
              "          '<a target=\"_blank\" href=https://colab.research.google.com/notebooks/data_table.ipynb>data table notebook</a>'\n",
              "          + ' to learn more about interactive tables.';\n",
              "        element.innerHTML = '';\n",
              "        dataTable['output_type'] = 'display_data';\n",
              "        await google.colab.output.renderOutput(dataTable, element);\n",
              "        const docLink = document.createElement('div');\n",
              "        docLink.innerHTML = docLinkHtml;\n",
              "        element.appendChild(docLink);\n",
              "      }\n",
              "    </script>\n",
              "  </div>\n",
              "\n",
              "\n",
              "<div id=\"df-5ff8a3d5-0970-46d9-9a97-386b5b4101fc\">\n",
              "  <button class=\"colab-df-quickchart\" onclick=\"quickchart('df-5ff8a3d5-0970-46d9-9a97-386b5b4101fc')\"\n",
              "            title=\"Suggest charts\"\n",
              "            style=\"display:none;\">\n",
              "\n",
              "<svg xmlns=\"http://www.w3.org/2000/svg\" height=\"24px\"viewBox=\"0 0 24 24\"\n",
              "     width=\"24px\">\n",
              "    <g>\n",
              "        <path d=\"M19 3H5c-1.1 0-2 .9-2 2v14c0 1.1.9 2 2 2h14c1.1 0 2-.9 2-2V5c0-1.1-.9-2-2-2zM9 17H7v-7h2v7zm4 0h-2V7h2v10zm4 0h-2v-4h2v4z\"/>\n",
              "    </g>\n",
              "</svg>\n",
              "  </button>\n",
              "\n",
              "<style>\n",
              "  .colab-df-quickchart {\n",
              "      --bg-color: #E8F0FE;\n",
              "      --fill-color: #1967D2;\n",
              "      --hover-bg-color: #E2EBFA;\n",
              "      --hover-fill-color: #174EA6;\n",
              "      --disabled-fill-color: #AAA;\n",
              "      --disabled-bg-color: #DDD;\n",
              "  }\n",
              "\n",
              "  [theme=dark] .colab-df-quickchart {\n",
              "      --bg-color: #3B4455;\n",
              "      --fill-color: #D2E3FC;\n",
              "      --hover-bg-color: #434B5C;\n",
              "      --hover-fill-color: #FFFFFF;\n",
              "      --disabled-bg-color: #3B4455;\n",
              "      --disabled-fill-color: #666;\n",
              "  }\n",
              "\n",
              "  .colab-df-quickchart {\n",
              "    background-color: var(--bg-color);\n",
              "    border: none;\n",
              "    border-radius: 50%;\n",
              "    cursor: pointer;\n",
              "    display: none;\n",
              "    fill: var(--fill-color);\n",
              "    height: 32px;\n",
              "    padding: 0;\n",
              "    width: 32px;\n",
              "  }\n",
              "\n",
              "  .colab-df-quickchart:hover {\n",
              "    background-color: var(--hover-bg-color);\n",
              "    box-shadow: 0 1px 2px rgba(60, 64, 67, 0.3), 0 1px 3px 1px rgba(60, 64, 67, 0.15);\n",
              "    fill: var(--button-hover-fill-color);\n",
              "  }\n",
              "\n",
              "  .colab-df-quickchart-complete:disabled,\n",
              "  .colab-df-quickchart-complete:disabled:hover {\n",
              "    background-color: var(--disabled-bg-color);\n",
              "    fill: var(--disabled-fill-color);\n",
              "    box-shadow: none;\n",
              "  }\n",
              "\n",
              "  .colab-df-spinner {\n",
              "    border: 2px solid var(--fill-color);\n",
              "    border-color: transparent;\n",
              "    border-bottom-color: var(--fill-color);\n",
              "    animation:\n",
              "      spin 1s steps(1) infinite;\n",
              "  }\n",
              "\n",
              "  @keyframes spin {\n",
              "    0% {\n",
              "      border-color: transparent;\n",
              "      border-bottom-color: var(--fill-color);\n",
              "      border-left-color: var(--fill-color);\n",
              "    }\n",
              "    20% {\n",
              "      border-color: transparent;\n",
              "      border-left-color: var(--fill-color);\n",
              "      border-top-color: var(--fill-color);\n",
              "    }\n",
              "    30% {\n",
              "      border-color: transparent;\n",
              "      border-left-color: var(--fill-color);\n",
              "      border-top-color: var(--fill-color);\n",
              "      border-right-color: var(--fill-color);\n",
              "    }\n",
              "    40% {\n",
              "      border-color: transparent;\n",
              "      border-right-color: var(--fill-color);\n",
              "      border-top-color: var(--fill-color);\n",
              "    }\n",
              "    60% {\n",
              "      border-color: transparent;\n",
              "      border-right-color: var(--fill-color);\n",
              "    }\n",
              "    80% {\n",
              "      border-color: transparent;\n",
              "      border-right-color: var(--fill-color);\n",
              "      border-bottom-color: var(--fill-color);\n",
              "    }\n",
              "    90% {\n",
              "      border-color: transparent;\n",
              "      border-bottom-color: var(--fill-color);\n",
              "    }\n",
              "  }\n",
              "</style>\n",
              "\n",
              "  <script>\n",
              "    async function quickchart(key) {\n",
              "      const quickchartButtonEl =\n",
              "        document.querySelector('#' + key + ' button');\n",
              "      quickchartButtonEl.disabled = true;  // To prevent multiple clicks.\n",
              "      quickchartButtonEl.classList.add('colab-df-spinner');\n",
              "      try {\n",
              "        const charts = await google.colab.kernel.invokeFunction(\n",
              "            'suggestCharts', [key], {});\n",
              "      } catch (error) {\n",
              "        console.error('Error during call to suggestCharts:', error);\n",
              "      }\n",
              "      quickchartButtonEl.classList.remove('colab-df-spinner');\n",
              "      quickchartButtonEl.classList.add('colab-df-quickchart-complete');\n",
              "    }\n",
              "    (() => {\n",
              "      let quickchartButtonEl =\n",
              "        document.querySelector('#df-5ff8a3d5-0970-46d9-9a97-386b5b4101fc button');\n",
              "      quickchartButtonEl.style.display =\n",
              "        google.colab.kernel.accessAllowed ? 'block' : 'none';\n",
              "    })();\n",
              "  </script>\n",
              "</div>\n",
              "\n",
              "    </div>\n",
              "  </div>\n"
            ],
            "application/vnd.google.colaboratory.intrinsic+json": {
              "type": "dataframe",
              "variable_name": "df"
            }
          },
          "metadata": {},
          "execution_count": 7
        }
      ]
    },
    {
      "cell_type": "markdown",
      "source": [
        "## Подготовка векторных представлений слов и знаков пунктуации"
      ],
      "metadata": {
        "id": "a3wNblUOha04"
      }
    },
    {
      "cell_type": "code",
      "execution_count": null,
      "metadata": {
        "id": "RkYrF0ODMhs8"
      },
      "outputs": [],
      "source": [
        "path = 'navec_hudlit_v1_12B_500K_300d_100q.tar'\n",
        "navec = Navec.load(path)"
      ]
    },
    {
      "cell_type": "code",
      "execution_count": null,
      "metadata": {
        "colab": {
          "base_uri": "https://localhost:8080/"
        },
        "id": "rh-XJ4eInL46",
        "outputId": "bade8602-a45b-4b6d-9e1e-d74839d03522"
      },
      "outputs": [
        {
          "output_type": "execute_result",
          "data": {
            "text/plain": [
              "(500002, 300)"
            ]
          },
          "metadata": {},
          "execution_count": 7
        }
      ],
      "source": [
        "embeddings = list()\n",
        "for word in navec.vocab.words:\n",
        "        embeddings.append(navec[word])\n",
        "embeddings = np.array(embeddings)\n",
        "embeddings.shape"
      ]
    },
    {
      "cell_type": "code",
      "execution_count": null,
      "metadata": {
        "colab": {
          "base_uri": "https://localhost:8080/"
        },
        "id": "-UDBG-MipIPL",
        "outputId": "8bc09ca4-32f6-41e8-9f55-aa962dfb2757"
      },
      "outputs": [
        {
          "output_type": "execute_result",
          "data": {
            "text/plain": [
              "(500002, 10)"
            ]
          },
          "metadata": {},
          "execution_count": 8
        }
      ],
      "source": [
        "target_dim = 10\n",
        "pca = PCA(n_components=target_dim)\n",
        "reduced_embeddings = pca.fit_transform(embeddings)\n",
        "reduced_embeddings.shape"
      ]
    },
    {
      "cell_type": "code",
      "execution_count": null,
      "metadata": {
        "id": "qCxW5R5LpYu7"
      },
      "outputs": [],
      "source": [
        "reduced_navec = {word: np.array(reduced_embeddings[i], dtype=np.float16) for i, word in enumerate(navec.vocab.words)}"
      ]
    },
    {
      "cell_type": "code",
      "execution_count": null,
      "metadata": {
        "id": "UyQqGAKET5Gz"
      },
      "outputs": [],
      "source": [
        "punkt_vectors = {\n",
        "    \".\": np.array([0.0] * (target_dim - 1) + [1.0], dtype=np.float16),\n",
        "    \"!\": np.array([0.0] * (target_dim - 1) + [0.9], dtype=np.float16),\n",
        "    \"?\": np.array([0.0] * (target_dim - 1) + [0.8], dtype=np.float16),\n",
        "    \",\": np.array([0.0] * (target_dim - 1) + [0.5], dtype=np.float16),\n",
        "    \":\": np.array([0.0] * (target_dim - 1) + [0.6], dtype=np.float16),\n",
        "    \"–\": np.array([0.0] * (target_dim - 1) + [0.4], dtype=np.float16),\n",
        "    \"-\": np.array([0.0] * (target_dim - 1) + [0.4], dtype=np.float16),\n",
        "    \"—\": np.array([0.0] * (target_dim - 1) + [0.4], dtype=np.float16),\n",
        "    \"«\": np.array([0.0] * (target_dim - 1) + [0.2], dtype=np.float16),\n",
        "    \"»\": np.array([0.0] * (target_dim - 1) + [0.3], dtype=np.float16),\n",
        "}"
      ]
    },
    {
      "cell_type": "markdown",
      "source": [
        "## Изучение размеров токенизированных предложений"
      ],
      "metadata": {
        "id": "OvU6K4ZfhPAJ"
      }
    },
    {
      "cell_type": "code",
      "source": [
        "vector_lengths = Counter(len(word_tokenize(line)) for line in df.lit_text)"
      ],
      "metadata": {
        "id": "szzoNniBr5BJ"
      },
      "execution_count": null,
      "outputs": []
    },
    {
      "cell_type": "code",
      "source": [
        "lengths = sorted(vector_lengths.keys())\n",
        "counts = [vector_lengths[length] for length in lengths]\n",
        "plt.figure(figsize=(14, 7))\n",
        "data = pd.DataFrame({'Length': lengths, 'Count': counts})\n",
        "sb.barplot(data=data, x='Length', y='Count', color='skyblue', edgecolor='black')\n",
        "plt.xlabel('Количество токенов в предложении', fontsize=14)\n",
        "plt.ylabel('Количество предложений', fontsize=14)\n",
        "plt.title('Распределение количества токенов в предложениях', fontsize=14)\n",
        "plt.grid(axis='y', linestyle='--', alpha=0.5)\n",
        "plt.tight_layout()"
      ],
      "metadata": {
        "colab": {
          "base_uri": "https://localhost:8080/",
          "height": 707
        },
        "id": "956eP_5agMJG",
        "outputId": "eccc6359-dea0-4b89-ca23-a19d99e3f9e7"
      },
      "execution_count": null,
      "outputs": [
        {
          "output_type": "display_data",
          "data": {
            "text/plain": [
              "<Figure size 1400x700 with 1 Axes>"
            ],
            "image/png": "[encoded data removed]"
          },
          "metadata": {}
        }
      ]
    },
    {
      "cell_type": "code",
      "source": [
        "max_vector_length = 40"
      ],
      "metadata": {
        "id": "Jtbg4fxxJdYP"
      },
      "execution_count": null,
      "outputs": []
    },
    {
      "cell_type": "markdown",
      "source": [
        "## Векторизация литературы"
      ],
      "metadata": {
        "id": "iLDbZ9n3J44-"
      }
    },
    {
      "cell_type": "code",
      "source": [
        "lit_tokens = []\n",
        "for sentence in df.lit_text:\n",
        "    tokens = word_tokenize(sentence)\n",
        "    if len(tokens) > max_vector_length:\n",
        "        continue\n",
        "    else:\n",
        "        lit_tokens.append(tokens)"
      ],
      "metadata": {
        "id": "tIhUu975ZOAP"
      },
      "execution_count": null,
      "outputs": []
    },
    {
      "cell_type": "code",
      "source": [
        "len(lit_tokens)"
      ],
      "metadata": {
        "colab": {
          "base_uri": "https://localhost:8080/"
        },
        "id": "haEd6h70yZqP",
        "outputId": "f6f881e4-5e01-4e6d-daa0-2a03be893b78"
      },
      "execution_count": null,
      "outputs": [
        {
          "output_type": "execute_result",
          "data": {
            "text/plain": [
              "1378261"
            ]
          },
          "metadata": {},
          "execution_count": 27
        }
      ]
    },
    {
      "cell_type": "code",
      "execution_count": null,
      "metadata": {
        "id": "O6S-wO9tX9iF"
      },
      "outputs": [],
      "source": [
        "lit_vectors = list()\n",
        "for i, tokens in enumerate(lit_tokens):\n",
        "    padding_for = max_vector_length - len(tokens)\n",
        "    vector = [np.zeros(target_dim)] * padding_for\n",
        "    for word in tokens:\n",
        "        try:\n",
        "            vector.append(reduced_navec[word])\n",
        "        except KeyError:\n",
        "            try:\n",
        "                vector.append(punkt_vectors[word])\n",
        "            except KeyError:\n",
        "                vector.append(reduced_navec[\"<unk>\"])\n",
        "    vector = np.array(vector, dtype=np.float16).reshape(max_vector_length * target_dim)\n",
        "    lit_vectors.append(vector)"
      ]
    },
    {
      "cell_type": "markdown",
      "source": [
        "## Векторизация тг сообщений"
      ],
      "metadata": {
        "id": "iOL4hGkGJ_fN"
      }
    },
    {
      "cell_type": "code",
      "source": [
        "tg_tokens = []\n",
        "for sentence in df.tg_text:\n",
        "    tokens = word_tokenize(sentence)\n",
        "    if len(tokens) > max_vector_length:\n",
        "        continue\n",
        "    else:\n",
        "        tg_tokens.append(tokens)"
      ],
      "metadata": {
        "id": "UXQ5caX3Udco"
      },
      "execution_count": null,
      "outputs": []
    },
    {
      "cell_type": "code",
      "source": [
        "len(tg_tokens)"
      ],
      "metadata": {
        "colab": {
          "base_uri": "https://localhost:8080/"
        },
        "id": "SlzrjsKTKOjk",
        "outputId": "877387a6-e045-4794-e614-ac07ea9c855c"
      },
      "execution_count": null,
      "outputs": [
        {
          "output_type": "execute_result",
          "data": {
            "text/plain": [
              "1382298"
            ]
          },
          "metadata": {},
          "execution_count": 15
        }
      ]
    },
    {
      "cell_type": "code",
      "source": [
        "tg_vectors = list()\n",
        "for i, tokens in enumerate(tg_tokens):\n",
        "    padding_for = max_vector_length - len(tokens)\n",
        "    vector = [np.zeros(target_dim)] * padding_for\n",
        "    for word in tokens:\n",
        "        try:\n",
        "            vector.append(reduced_navec[word])\n",
        "        except KeyError:\n",
        "            try:\n",
        "                vector.append(punkt_vectors[word])\n",
        "            except KeyError:\n",
        "                vector.append(reduced_navec[\"<unk>\"])\n",
        "    vector = np.array(vector, dtype=np.float16).reshape(max_vector_length * target_dim)\n",
        "    tg_vectors.append(vector)"
      ],
      "metadata": {
        "id": "gYKoqNY6L2kf"
      },
      "execution_count": null,
      "outputs": []
    },
    {
      "cell_type": "markdown",
      "source": [
        "## Сохранение векторов"
      ],
      "metadata": {
        "id": "HTEwYmQBhigH"
      }
    },
    {
      "cell_type": "code",
      "source": [
        "length = min(len(lit_vectors), len(tg_vectors))\n",
        "length"
      ],
      "metadata": {
        "colab": {
          "base_uri": "https://localhost:8080/"
        },
        "id": "_gprDwV6nGgl",
        "outputId": "6a02ff08-34b9-49cd-bbdf-e1ba9d8d743f"
      },
      "execution_count": null,
      "outputs": [
        {
          "output_type": "execute_result",
          "data": {
            "text/plain": [
              "1378261"
            ]
          },
          "metadata": {},
          "execution_count": 18
        }
      ]
    },
    {
      "cell_type": "code",
      "source": [
        "lit_vectors_np = np.array(lit_vectors[:length])\n",
        "tg_vectors_np = np.array(tg_vectors[:length])"
      ],
      "metadata": {
        "id": "x_5FUwzRmcxP"
      },
      "execution_count": null,
      "outputs": []
    },
    {
      "cell_type": "code",
      "source": [
        "np.save(\"/content/drive/MyDrive/CycleGAN_for_TST_problem/vectorized_lit.npy\", lit_vectors_np)\n",
        "np.save(\"/content/drive/MyDrive/CycleGAN_for_TST_problem/vectorized_tg.npy\", tg_vectors_np)"
      ],
      "metadata": {
        "id": "J76_uQ3RnUSq"
      },
      "execution_count": null,
      "outputs": []
    }
  ],
  "metadata": {
    "colab": {
      "provenance": []
    },
    "kernelspec": {
      "display_name": "Python 3",
      "name": "python3"
    },
    "language_info": {
      "name": "python"
    }
  },
  "nbformat": 4,
  "nbformat_minor": 0
}