{
  "cells": [
    {
      "cell_type": "code",
      "execution_count": null,
      "id": "19fcc325-8759-41ac-83f6-c67e363675ea",
      "metadata": {
        "execution": {
          "iopub.execute_input": "2025-03-27T10:49:02.561847Z",
          "iopub.status.busy": "2025-03-27T10:49:02.560405Z",
          "iopub.status.idle": "2025-03-27T10:49:02.598740Z",
          "shell.execute_reply": "2025-03-27T10:49:02.597733Z",
          "shell.execute_reply.started": "2025-03-27T10:49:02.561794Z"
        },
        "tags": [],
        "id": "19fcc325-8759-41ac-83f6-c67e363675ea"
      },
      "outputs": [],
      "source": [
        "import torch\n",
        "from transformers import BertTokenizer, BertModel\n",
        "from torch.utils.data import Dataset, DataLoader\n",
        "import pandas as pd\n",
        "import numpy as np\n",
        "from tqdm import tqdm\n",
        "import time"
      ]
    },
    {
      "cell_type": "code",
      "execution_count": null,
      "id": "88cef346-a2ab-47f7-b25a-8e0e61322697",
      "metadata": {
        "execution": {
          "iopub.execute_input": "2025-03-27T10:49:00.719673Z",
          "iopub.status.busy": "2025-03-27T10:49:00.718533Z",
          "iopub.status.idle": "2025-03-27T10:49:00.861127Z",
          "shell.execute_reply": "2025-03-27T10:49:00.860094Z",
          "shell.execute_reply.started": "2025-03-27T10:49:00.719621Z"
        },
        "tags": [],
        "id": "88cef346-a2ab-47f7-b25a-8e0e61322697"
      },
      "outputs": [],
      "source": [
        "device = torch.device(\"cuda\" if torch.cuda.is_available() else \"cpu\")\n",
        "batch_size = 2048\n",
        "max_seq_len = 96\n",
        "num_workers = 16"
      ]
    },
    {
      "cell_type": "code",
      "execution_count": null,
      "id": "cb6edac3-0fc2-4603-a9d7-c5a296cbc13a",
      "metadata": {
        "execution": {
          "iopub.execute_input": "2025-03-27T10:50:14.026709Z",
          "iopub.status.busy": "2025-03-27T10:50:14.024214Z",
          "iopub.status.idle": "2025-03-27T10:51:24.115167Z",
          "shell.execute_reply": "2025-03-27T10:51:24.114239Z",
          "shell.execute_reply.started": "2025-03-27T10:50:14.026664Z"
        },
        "tags": [],
        "id": "cb6edac3-0fc2-4603-a9d7-c5a296cbc13a"
      },
      "outputs": [],
      "source": [
        "tokenizer = BertTokenizer.from_pretrained(\"DeepPavlov/rubert-base-cased\", force_download=True)\n",
        "model = BertModel.from_pretrained(\"DeepPavlov/rubert-base-cased\", force_download=True).to(device)"
      ]
    },
    {
      "cell_type": "code",
      "execution_count": null,
      "id": "92047ee8-0257-47bf-99dc-fdb932955d46",
      "metadata": {
        "execution": {
          "iopub.execute_input": "2025-03-26T16:12:21.333272Z",
          "iopub.status.busy": "2025-03-26T16:12:21.332792Z",
          "iopub.status.idle": "2025-03-26T16:12:21.363978Z",
          "shell.execute_reply": "2025-03-26T16:12:21.363166Z",
          "shell.execute_reply.started": "2025-03-26T16:12:21.333245Z"
        },
        "tags": [],
        "id": "92047ee8-0257-47bf-99dc-fdb932955d46"
      },
      "outputs": [],
      "source": [
        "class TextDataset(Dataset):\n",
        "    def __init__(self, texts, tokenizer, max_seq_len):\n",
        "        self.texts = texts\n",
        "        self.tokenizer = tokenizer\n",
        "        self.max_seq_len = max_seq_len\n",
        "\n",
        "    def __len__(self):\n",
        "        return len(self.texts)\n",
        "\n",
        "    def __getitem__(self, idx):\n",
        "        text = self.texts[idx]\n",
        "        encoding = self.tokenizer(text, max_length=self.max_seq_len, truncation=True, padding='max_length', return_tensors='pt')\n",
        "        return {k: v.squeeze(0) for k, v in encoding.items()}"
      ]
    },
    {
      "cell_type": "code",
      "execution_count": null,
      "id": "bccacf63-447f-4c73-baf5-077cdbc4e2a8",
      "metadata": {
        "execution": {
          "iopub.execute_input": "2025-03-26T16:12:21.365211Z",
          "iopub.status.busy": "2025-03-26T16:12:21.364795Z",
          "iopub.status.idle": "2025-03-26T16:12:38.009668Z",
          "shell.execute_reply": "2025-03-26T16:12:38.008751Z",
          "shell.execute_reply.started": "2025-03-26T16:12:21.365186Z"
        },
        "tags": [],
        "id": "bccacf63-447f-4c73-baf5-077cdbc4e2a8"
      },
      "outputs": [],
      "source": [
        "data = pd.read_csv(\"data.csv\")\n",
        "lit_texts = data[\"lit_text\"].tolist()\n",
        "tg_texts = data[\"tg_text\"].tolist()"
      ]
    },
    {
      "cell_type": "code",
      "execution_count": null,
      "id": "ff9962ab-702e-40a9-9195-0cbf01607f47",
      "metadata": {
        "execution": {
          "iopub.execute_input": "2025-03-26T16:12:38.011511Z",
          "iopub.status.busy": "2025-03-26T16:12:38.011140Z",
          "iopub.status.idle": "2025-03-26T16:12:38.033781Z",
          "shell.execute_reply": "2025-03-26T16:12:38.032863Z",
          "shell.execute_reply.started": "2025-03-26T16:12:38.011489Z"
        },
        "tags": [],
        "id": "ff9962ab-702e-40a9-9195-0cbf01607f47"
      },
      "outputs": [],
      "source": [
        "lit_dataset = TextDataset(lit_texts, tokenizer, max_seq_len)\n",
        "tg_dataset = TextDataset(tg_texts, tokenizer, max_seq_len)\n",
        "lit_dataloader = DataLoader(lit_dataset, batch_size=batch_size, shuffle=False, num_workers=num_workers, pin_memory=True)\n",
        "tg_dataloader = DataLoader(tg_dataset, batch_size=batch_size, shuffle=False, num_workers=num_workers, pin_memory=True)"
      ]
    },
    {
      "cell_type": "code",
      "execution_count": null,
      "id": "cb0f1fa1-da6e-4f18-8bc7-1956cda3b726",
      "metadata": {
        "execution": {
          "iopub.execute_input": "2025-03-26T16:13:19.271829Z",
          "iopub.status.busy": "2025-03-26T16:13:19.271378Z",
          "iopub.status.idle": "2025-03-26T16:13:19.322145Z",
          "shell.execute_reply": "2025-03-26T16:13:19.321380Z",
          "shell.execute_reply.started": "2025-03-26T16:13:19.271809Z"
        },
        "tags": [],
        "id": "cb0f1fa1-da6e-4f18-8bc7-1956cda3b726"
      },
      "outputs": [],
      "source": [
        "def vectorize_texts(dataloader, model, output_file):\n",
        "    embeddings = []\n",
        "    with torch.no_grad():\n",
        "        for batch in tqdm(dataloader, desc=f\"Векторизация {output_file}\"):\n",
        "            input_ids = batch['input_ids'].to(device)\n",
        "            attention_mask = batch['attention_mask'].to(device)\n",
        "\n",
        "            with torch.cuda.amp.autocast():\n",
        "                outputs = model(input_ids, attention_mask=attention_mask)\n",
        "                embed = outputs.last_hidden_state[:, 0, :]\n",
        "\n",
        "            embeddings.append(embed.cpu().numpy())\n",
        "            torch.cuda.empty_cache()\n",
        "\n",
        "        embeddings = np.concatenate(embeddings, axis=0)\n",
        "        np.save(output_file, embeddings)\n",
        "        return embeddings"
      ]
    },
    {
      "cell_type": "code",
      "execution_count": null,
      "id": "027c0853-26be-4e4d-8649-373bca515fcd",
      "metadata": {
        "execution": {
          "iopub.execute_input": "2025-03-26T16:13:21.984918Z",
          "iopub.status.busy": "2025-03-26T16:13:21.984487Z",
          "iopub.status.idle": "2025-03-26T16:31:08.514138Z",
          "shell.execute_reply": "2025-03-26T16:31:08.513202Z",
          "shell.execute_reply.started": "2025-03-26T16:13:21.984897Z"
        },
        "tags": [],
        "id": "027c0853-26be-4e4d-8649-373bca515fcd",
        "outputId": "e034e6e4-f002-4abd-e6a8-8c027094e53b"
      },
      "outputs": [
        {
          "name": "stderr",
          "output_type": "stream",
          "text": [
            "Векторизация lit_embeddings.npy: 100%|██████████| 676/676 [04:14<00:00,  2.65it/s]\n",
            "Векторизация tg_embeddings.npy: 100%|██████████| 676/676 [04:14<00:00,  2.66it/s]\n"
          ]
        },
        {
          "name": "stdout",
          "output_type": "stream",
          "text": [
            "Векторизация завершена за 1066.50 секунд\n"
          ]
        }
      ],
      "source": [
        "start_time = time.time()\n",
        "lit_embeddings = vectorize_texts(lit_dataloader, model, \"lit_embeddings.npy\")\n",
        "tg_embeddings = vectorize_texts(tg_dataloader, model, \"tg_embeddings.npy\")\n",
        "print(f\"Векторизация завершена за {time.time() - start_time:.2f} секунд\")"
      ]
    },
    {
      "cell_type": "code",
      "execution_count": null,
      "id": "1b05a984-4001-4e77-a7b8-287df1e9bcdd",
      "metadata": {
        "id": "1b05a984-4001-4e77-a7b8-287df1e9bcdd"
      },
      "outputs": [],
      "source": []
    }
  ],
  "metadata": {
    "kernelspec": {
      "display_name": "DataSphere Kernel",
      "language": "python",
      "name": "python3"
    },
    "language_info": {
      "codemirror_mode": {
        "name": "ipython",
        "version": 3
      },
      "file_extension": ".py",
      "mimetype": "text/x-python",
      "name": "python",
      "nbconvert_exporter": "python",
      "pygments_lexer": "ipython3",
      "version": "3.10.12"
    },
    "colab": {
      "provenance": []
    }
  },
  "nbformat": 4,
  "nbformat_minor": 5
}