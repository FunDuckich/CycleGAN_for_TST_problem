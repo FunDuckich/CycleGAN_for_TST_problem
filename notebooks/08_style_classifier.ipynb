{
  "cells": [
    {
      "cell_type": "code",
      "execution_count": null,
      "metadata": {
        "execution": {
          "iopub.execute_input": "2025-04-28T17:20:54.908400Z",
          "iopub.status.busy": "2025-04-28T17:20:54.907553Z",
          "iopub.status.idle": "2025-04-28T17:20:59.895856Z",
          "shell.execute_reply": "2025-04-28T17:20:59.894687Z",
          "shell.execute_reply.started": "2025-04-28T17:20:54.908340Z"
        },
        "id": "uuoDlQW2W9Bz",
        "tags": []
      },
      "outputs": [],
      "source": [
        "import torch\n",
        "import torch.nn as nn\n",
        "from torch.utils.data import DataLoader, Dataset\n",
        "from torch.optim import AdamW\n",
        "from transformers import DistilBertTokenizer, DistilBertModel\n",
        "from sklearn.model_selection import train_test_split\n",
        "from sklearn.metrics import accuracy_score, f1_score\n",
        "import pandas as pd\n",
        "import numpy as np\n",
        "from tqdm import tqdm\n",
        "import os\n",
        "import matplotlib.pyplot as plt\n",
        "import torch.nn.functional as F"
      ]
    },
    {
      "cell_type": "code",
      "execution_count": null,
      "metadata": {
        "execution": {
          "iopub.execute_input": "2025-04-28T17:20:59.897302Z",
          "iopub.status.busy": "2025-04-28T17:20:59.896828Z",
          "iopub.status.idle": "2025-04-28T17:20:59.962575Z",
          "shell.execute_reply": "2025-04-28T17:20:59.961024Z",
          "shell.execute_reply.started": "2025-04-28T17:20:59.897279Z"
        },
        "id": "tlby4adChDQ_",
        "tags": []
      },
      "outputs": [],
      "source": [
        "MODEL_NAME = \"DeepPavlov/distilrubert-base-cased-conversational\"\n",
        "MAX_LENGTH = 96\n",
        "NUM_LABELS = 2\n",
        "LEARNING_RATE = 2e-5\n",
        "NUM_EPOCHS = 3\n",
        "BATCH_SIZE = 2448\n",
        "TEST_SIZE = 0.2\n",
        "VAL_TEST_SPLIT = 0.3\n",
        "RANDOM_STATE = 42\n",
        "SAVE_DIR = \"style_classifier\"\n",
        "MODEL_PATH = os.path.join(SAVE_DIR, \"model.pth\")\n",
        "LOSS_PLOT_PATH = os.path.join(SAVE_DIR, \"training_loss.png\")\n",
        "\n",
        "device = torch.device(\"cuda\" if torch.cuda.is_available() else \"cpu\")"
      ]
    },
    {
      "cell_type": "code",
      "source": [
        "from google.colab import drive\n",
        "drive.mount('/content/drive')\n",
        "SAVE_DIR = \"/content/drive/MyDrive/CycleGAN_for_TST_problem/style_transfer/style_classifier\"\n",
        "MODEL_PATH = os.path.join(SAVE_DIR, \"model.pth\")"
      ],
      "metadata": {
        "id": "QFVdVV0A5g28"
      },
      "execution_count": null,
      "outputs": []
    },
    {
      "cell_type": "code",
      "execution_count": null,
      "metadata": {
        "execution": {
          "iopub.execute_input": "2025-04-28T17:22:36.617650Z",
          "iopub.status.busy": "2025-04-28T17:22:36.616678Z",
          "iopub.status.idle": "2025-04-28T17:22:41.496277Z",
          "shell.execute_reply": "2025-04-28T17:22:41.494400Z",
          "shell.execute_reply.started": "2025-04-28T17:22:36.617576Z"
        },
        "id": "xnMJlMF3YIVj",
        "tags": []
      },
      "outputs": [],
      "source": [
        "data = pd.read_csv(\"data.csv\")"
      ]
    },
    {
      "cell_type": "code",
      "execution_count": null,
      "metadata": {
        "execution": {
          "iopub.execute_input": "2025-04-28T17:22:41.499615Z",
          "iopub.status.busy": "2025-04-28T17:22:41.498714Z",
          "iopub.status.idle": "2025-04-28T17:22:41.769469Z",
          "shell.execute_reply": "2025-04-28T17:22:41.768151Z",
          "shell.execute_reply.started": "2025-04-28T17:22:41.499570Z"
        },
        "id": "C9vC4AlFYM8r",
        "tags": []
      },
      "outputs": [],
      "source": [
        "texts = list(data['tg_text']) + list(data['lit_text'])\n",
        "labels = [0] * len(data['tg_text']) + [1] * len(data['lit_text'])"
      ]
    },
    {
      "cell_type": "code",
      "execution_count": null,
      "metadata": {
        "execution": {
          "iopub.execute_input": "2025-04-28T17:22:41.771649Z",
          "iopub.status.busy": "2025-04-28T17:22:41.770823Z",
          "iopub.status.idle": "2025-04-28T17:22:43.410103Z",
          "shell.execute_reply": "2025-04-28T17:22:43.408405Z",
          "shell.execute_reply.started": "2025-04-28T17:22:41.771596Z"
        },
        "id": "UXfDf-UTYWKq",
        "tags": []
      },
      "outputs": [],
      "source": [
        "train_texts, temp_texts, train_labels, temp_labels = train_test_split(\n",
        "    texts, labels, test_size=TEST_SIZE, random_state=RANDOM_STATE\n",
        ")\n",
        "val_texts, test_texts, val_labels, test_labels = train_test_split(\n",
        "    temp_texts, temp_labels, test_size=VAL_TEST_SPLIT, random_state=RANDOM_STATE\n",
        ")"
      ]
    },
    {
      "cell_type": "code",
      "execution_count": null,
      "metadata": {
        "execution": {
          "iopub.execute_input": "2025-04-28T16:44:34.484459Z",
          "iopub.status.busy": "2025-04-28T16:44:34.483777Z",
          "iopub.status.idle": "2025-04-28T16:44:35.360853Z",
          "shell.execute_reply": "2025-04-28T16:44:35.359210Z",
          "shell.execute_reply.started": "2025-04-28T16:44:34.484415Z"
        },
        "id": "IBt5qEuthWId",
        "tags": []
      },
      "outputs": [],
      "source": [
        "tokenizer = DistilBertTokenizer.from_pretrained(MODEL_NAME)"
      ]
    },
    {
      "cell_type": "code",
      "execution_count": null,
      "metadata": {
        "execution": {
          "iopub.execute_input": "2025-04-28T16:44:35.364132Z",
          "iopub.status.busy": "2025-04-28T16:44:35.363414Z",
          "iopub.status.idle": "2025-04-28T16:44:35.448385Z",
          "shell.execute_reply": "2025-04-28T16:44:35.446813Z",
          "shell.execute_reply.started": "2025-04-28T16:44:35.364094Z"
        },
        "id": "E1oF6lOShZ6t"
      },
      "outputs": [],
      "source": [
        "def tokenize(texts, max_length=MAX_LENGTH):\n",
        "    return tokenizer(texts, padding=True, truncation=True, max_length=max_length, return_tensors='pt')"
      ]
    },
    {
      "cell_type": "code",
      "execution_count": null,
      "metadata": {
        "id": "7usx5YFWhcVc"
      },
      "outputs": [],
      "source": [
        "train_encodings = tokenize(train_texts)\n",
        "val_encodings = tokenize(val_texts)\n",
        "test_encodings = tokenize(test_texts)\n",
        "\n",
        "os.makedirs(SAVE_DIR, exist_ok=True)\n",
        "\n",
        "torch.save(train_encodings, os.path.join(SAVE_DIR, \"train_encodings.pt\"))\n",
        "torch.save(val_encodings, os.path.join(SAVE_DIR, \"val_encodings.pt\"))\n",
        "torch.save(test_encodings, os.path.join(SAVE_DIR, \"test_encodings.pt\"))"
      ]
    },
    {
      "cell_type": "code",
      "execution_count": null,
      "metadata": {
        "execution": {
          "iopub.execute_input": "2025-04-28T17:22:46.638305Z",
          "iopub.status.busy": "2025-04-28T17:22:46.637469Z",
          "iopub.status.idle": "2025-04-28T17:22:47.914590Z",
          "shell.execute_reply": "2025-04-28T17:22:47.912572Z",
          "shell.execute_reply.started": "2025-04-28T17:22:46.638259Z"
        },
        "id": "1BF6isikiqlY",
        "tags": []
      },
      "outputs": [],
      "source": [
        "train_encodings = torch.load(os.path.join(SAVE_DIR, \"train_encodings.pt\"))\n",
        "val_encodings = torch.load(os.path.join(SAVE_DIR, \"val_encodings.pt\"))\n",
        "test_encodings = torch.load(os.path.join(SAVE_DIR, \"test_encodings.pt\"))"
      ]
    },
    {
      "cell_type": "code",
      "execution_count": null,
      "metadata": {
        "execution": {
          "iopub.execute_input": "2025-04-28T17:22:53.863024Z",
          "iopub.status.busy": "2025-04-28T17:22:53.862169Z",
          "iopub.status.idle": "2025-04-28T17:22:53.929978Z",
          "shell.execute_reply": "2025-04-28T17:22:53.928492Z",
          "shell.execute_reply.started": "2025-04-28T17:22:53.862978Z"
        },
        "id": "beLfwMaGhdkk",
        "tags": []
      },
      "outputs": [],
      "source": [
        "class StyleDataset(Dataset):\n",
        "    def __init__(self, encodings, labels):\n",
        "        self.encodings = encodings\n",
        "        self.labels = labels\n",
        "\n",
        "    def __len__(self):\n",
        "        return len(self.labels)\n",
        "\n",
        "    def __getitem__(self, idx):\n",
        "        item = {key: val[idx] for key, val in self.encodings.items()}\n",
        "        item['labels'] = torch.tensor(self.labels[idx], dtype=torch.long)\n",
        "        return item"
      ]
    },
    {
      "cell_type": "code",
      "execution_count": null,
      "metadata": {
        "execution": {
          "iopub.execute_input": "2025-04-28T17:22:58.085677Z",
          "iopub.status.busy": "2025-04-28T17:22:58.084813Z",
          "iopub.status.idle": "2025-04-28T17:22:58.119980Z",
          "shell.execute_reply": "2025-04-28T17:22:58.118522Z",
          "shell.execute_reply.started": "2025-04-28T17:22:58.085630Z"
        },
        "id": "_UsIF0JJiDDq",
        "tags": []
      },
      "outputs": [],
      "source": [
        "train_dataset = StyleDataset(train_encodings, train_labels)\n",
        "val_dataset = StyleDataset(val_encodings, val_labels)\n",
        "test_dataset = StyleDataset(test_encodings, test_labels)"
      ]
    },
    {
      "cell_type": "code",
      "execution_count": null,
      "metadata": {
        "execution": {
          "iopub.execute_input": "2025-04-28T17:23:02.719889Z",
          "iopub.status.busy": "2025-04-28T17:23:02.718924Z",
          "iopub.status.idle": "2025-04-28T17:23:02.743798Z",
          "shell.execute_reply": "2025-04-28T17:23:02.742149Z",
          "shell.execute_reply.started": "2025-04-28T17:23:02.719840Z"
        },
        "id": "RaE7i-sLiEiq",
        "tags": []
      },
      "outputs": [],
      "source": [
        "class StyleClassifier(nn.Module):\n",
        "    def __init__(self, num_labels=NUM_LABELS):\n",
        "        super().__init__()\n",
        "        self.bert = DistilBertModel.from_pretrained(MODEL_NAME)\n",
        "        self.classifier = nn.Linear(self.bert.config.hidden_size, num_labels)\n",
        "\n",
        "    def forward(self, input_ids, attention_mask):\n",
        "        outputs = self.bert(input_ids=input_ids, attention_mask=attention_mask)\n",
        "        cls_output = outputs.last_hidden_state[:, 0, :]\n",
        "        logits = self.classifier(cls_output)\n",
        "        return logits"
      ]
    },
    {
      "cell_type": "code",
      "execution_count": null,
      "metadata": {
        "execution": {
          "iopub.execute_input": "2025-04-28T16:44:36.762206Z",
          "iopub.status.busy": "2025-04-28T16:44:36.761392Z",
          "iopub.status.idle": "2025-04-28T16:44:38.670970Z",
          "shell.execute_reply": "2025-04-28T16:44:38.669298Z",
          "shell.execute_reply.started": "2025-04-28T16:44:36.762158Z"
        },
        "id": "rq8Amj6IiGAC",
        "tags": []
      },
      "outputs": [],
      "source": [
        "model = StyleClassifier().to(device)"
      ]
    },
    {
      "cell_type": "code",
      "execution_count": null,
      "metadata": {
        "execution": {
          "iopub.execute_input": "2025-04-28T17:23:07.987731Z",
          "iopub.status.busy": "2025-04-28T17:23:07.986813Z",
          "iopub.status.idle": "2025-04-28T17:23:08.010808Z",
          "shell.execute_reply": "2025-04-28T17:23:08.009237Z",
          "shell.execute_reply.started": "2025-04-28T17:23:07.987685Z"
        },
        "id": "vEm5Cb5tiHch",
        "tags": []
      },
      "outputs": [],
      "source": [
        "loss_fn = nn.CrossEntropyLoss()"
      ]
    },
    {
      "cell_type": "code",
      "execution_count": null,
      "metadata": {
        "execution": {
          "iopub.execute_input": "2025-04-28T17:23:09.828222Z",
          "iopub.status.busy": "2025-04-28T17:23:09.827402Z",
          "iopub.status.idle": "2025-04-28T17:23:09.855991Z",
          "shell.execute_reply": "2025-04-28T17:23:09.854430Z",
          "shell.execute_reply.started": "2025-04-28T17:23:09.828179Z"
        },
        "id": "mDBSE0-GiJ5x",
        "tags": []
      },
      "outputs": [],
      "source": [
        "optimizer = AdamW(model.parameters(), lr=LEARNING_RATE)"
      ]
    },
    {
      "cell_type": "code",
      "execution_count": null,
      "metadata": {
        "execution": {
          "iopub.execute_input": "2025-04-28T17:23:11.775195Z",
          "iopub.status.busy": "2025-04-28T17:23:11.774246Z",
          "iopub.status.idle": "2025-04-28T17:23:11.847199Z",
          "shell.execute_reply": "2025-04-28T17:23:11.845703Z",
          "shell.execute_reply.started": "2025-04-28T17:23:11.775086Z"
        },
        "id": "pajcwkn0iLQB",
        "tags": []
      },
      "outputs": [],
      "source": [
        "train_loader = DataLoader(train_dataset, batch_size=BATCH_SIZE, shuffle=True)\n",
        "val_loader = DataLoader(val_dataset, batch_size=BATCH_SIZE)\n",
        "test_loader = DataLoader(test_dataset, batch_size=BATCH_SIZE)\n"
      ]
    },
    {
      "cell_type": "code",
      "execution_count": null,
      "metadata": {
        "execution": {
          "iopub.execute_input": "2025-04-28T16:44:38.727272Z",
          "iopub.status.busy": "2025-04-28T16:44:38.726437Z",
          "iopub.status.idle": "2025-04-28T16:44:38.744852Z",
          "shell.execute_reply": "2025-04-28T16:44:38.743421Z",
          "shell.execute_reply.started": "2025-04-28T16:44:38.727235Z"
        },
        "id": "tvymHEFviMhx",
        "tags": []
      },
      "outputs": [],
      "source": [
        "scaler = torch.cuda.amp.GradScaler()"
      ]
    },
    {
      "cell_type": "code",
      "execution_count": null,
      "metadata": {
        "execution": {
          "iopub.execute_input": "2025-04-28T16:44:38.748501Z",
          "iopub.status.busy": "2025-04-28T16:44:38.746848Z",
          "iopub.status.idle": "2025-04-28T17:17:00.343900Z",
          "shell.execute_reply": "2025-04-28T17:17:00.342231Z",
          "shell.execute_reply.started": "2025-04-28T16:44:38.748452Z"
        },
        "id": "f--0TsqsiNsp",
        "tags": [],
        "outputId": "08343fcb-8ec7-4197-8ccb-0d22adbc211a"
      },
      "outputs": [
        {
          "name": "stderr",
          "output_type": "stream",
          "text": [
            "100%|██████████| 904/904 [10:06<00:00,  1.49it/s]\n"
          ]
        },
        {
          "name": "stdout",
          "output_type": "stream",
          "text": [
            "Epoch 1, Train Loss: 0.1175\n",
            "Epoch 1, Validation Loss: 0.0983, Accuracy: 0.9604, F1 Score: 0.9604\n"
          ]
        },
        {
          "name": "stderr",
          "output_type": "stream",
          "text": [
            "100%|██████████| 904/904 [10:03<00:00,  1.50it/s]\n"
          ]
        },
        {
          "name": "stdout",
          "output_type": "stream",
          "text": [
            "Epoch 2, Train Loss: 0.0871\n",
            "Epoch 2, Validation Loss: 0.0918, Accuracy: 0.9632, F1 Score: 0.9632\n"
          ]
        },
        {
          "name": "stderr",
          "output_type": "stream",
          "text": [
            "100%|██████████| 904/904 [10:04<00:00,  1.49it/s]\n"
          ]
        },
        {
          "name": "stdout",
          "output_type": "stream",
          "text": [
            "Epoch 3, Train Loss: 0.0725\n",
            "Epoch 3, Validation Loss: 0.0900, Accuracy: 0.9644, F1 Score: 0.9644\n"
          ]
        }
      ],
      "source": [
        "train_losses = []\n",
        "val_losses = []\n",
        "\n",
        "for epoch in range(NUM_EPOCHS):\n",
        "    model.train()\n",
        "    total_train_loss = 0\n",
        "    for batch in tqdm(train_loader):\n",
        "        optimizer.zero_grad()\n",
        "        input_ids = batch['input_ids'].to(device)\n",
        "        attention_mask = batch['attention_mask'].to(device)\n",
        "        labels = batch['labels'].to(device)\n",
        "\n",
        "        with torch.amp.autocast(device.type):\n",
        "            logits = model(input_ids, attention_mask)\n",
        "            loss = loss_fn(logits, labels)\n",
        "\n",
        "        scaler.scale(loss).backward()\n",
        "        scaler.step(optimizer)\n",
        "        scaler.update()\n",
        "        total_train_loss += loss.item()\n",
        "\n",
        "    avg_train_loss = total_train_loss / len(train_loader)\n",
        "    train_losses.append(avg_train_loss)\n",
        "    print(f\"Epoch {epoch+1}, Train Loss: {avg_train_loss:.4f}\")\n",
        "\n",
        "    model.eval()\n",
        "    total_val_loss = 0\n",
        "    val_preds = []\n",
        "    val_true = []\n",
        "    with torch.no_grad():\n",
        "        for batch in val_loader:\n",
        "            input_ids = batch['input_ids'].to(device)\n",
        "            attention_mask = batch['attention_mask'].to(device)\n",
        "            labels = batch['labels'].to(device)\n",
        "\n",
        "            with torch.amp.autocast(device.type):\n",
        "                logits = model(input_ids, attention_mask)\n",
        "                loss = loss_fn(logits, labels)\n",
        "                preds = torch.argmax(logits, dim=1)\n",
        "\n",
        "            total_val_loss += loss.item()\n",
        "            val_preds.extend(preds.cpu().numpy())\n",
        "            val_true.extend(labels.cpu().numpy())\n",
        "\n",
        "    avg_val_loss = total_val_loss / len(val_loader)\n",
        "    val_losses.append(avg_val_loss)\n",
        "    val_accuracy = accuracy_score(val_true, val_preds)\n",
        "    val_f1 = f1_score(val_true, val_preds, average='weighted')\n",
        "    print(f\"Epoch {epoch+1}, Validation Loss: {avg_val_loss:.4f}, Accuracy: {val_accuracy:.4f}, F1 Score: {val_f1:.4f}\")"
      ]
    },
    {
      "cell_type": "code",
      "execution_count": null,
      "metadata": {
        "execution": {
          "iopub.execute_input": "2025-04-28T17:26:10.428764Z",
          "iopub.status.busy": "2025-04-28T17:26:10.427888Z",
          "iopub.status.idle": "2025-04-28T17:26:25.213192Z",
          "shell.execute_reply": "2025-04-28T17:26:25.212196Z",
          "shell.execute_reply.started": "2025-04-28T17:26:10.428719Z"
        },
        "id": "Vy61DN1iiQLp",
        "tags": [],
        "outputId": "b0e7eaf3-42ea-4671-d061-6e827ef9c220"
      },
      "outputs": [
        {
          "name": "stdout",
          "output_type": "stream",
          "text": [
            "Test Accuracy: 0.9647, F1 Score: 0.9647\n"
          ]
        }
      ],
      "source": [
        "model.eval()\n",
        "test_preds = []\n",
        "test_true = []\n",
        "with torch.no_grad():\n",
        "    for batch in test_loader:\n",
        "        input_ids = batch['input_ids'].to(device)\n",
        "        attention_mask = batch['attention_mask'].to(device)\n",
        "        labels = batch['labels'].to(device)\n",
        "\n",
        "        with torch.amp.autocast(device.type):\n",
        "            logits = model(input_ids, attention_mask)\n",
        "            preds = torch.argmax(logits, dim=1)\n",
        "\n",
        "        test_preds.extend(preds.cpu().numpy())\n",
        "        test_true.extend(labels.cpu().numpy())\n",
        "\n",
        "test_accuracy = accuracy_score(test_true, test_preds)\n",
        "test_f1 = f1_score(test_true, test_preds, average='weighted')\n",
        "print(f\"Test Accuracy: {test_accuracy:.4f}, F1 Score: {test_f1:.4f}\")"
      ]
    },
    {
      "cell_type": "code",
      "execution_count": null,
      "metadata": {
        "execution": {
          "iopub.execute_input": "2025-04-28T17:17:36.366538Z",
          "iopub.status.busy": "2025-04-28T17:17:36.365930Z",
          "iopub.status.idle": "2025-04-28T17:17:36.560842Z",
          "shell.execute_reply": "2025-04-28T17:17:36.559471Z",
          "shell.execute_reply.started": "2025-04-28T17:17:36.366501Z"
        },
        "id": "rF9Hy5T1iSvI",
        "tags": []
      },
      "outputs": [],
      "source": [
        "plt.figure(figsize=(8, 6))\n",
        "plt.plot(range(1, NUM_EPOCHS + 1), train_losses, label='Train Loss', marker='o')\n",
        "plt.plot(range(1, NUM_EPOCHS + 1), val_losses, label='Validation Loss', marker='o')\n",
        "plt.title('Training and Validation Loss')\n",
        "plt.xlabel('Epoch')\n",
        "plt.ylabel('Loss')\n",
        "plt.legend()\n",
        "plt.grid(True)\n",
        "plt.savefig(LOSS_PLOT_PATH)\n",
        "plt.close()"
      ]
    },
    {
      "cell_type": "code",
      "execution_count": null,
      "metadata": {
        "execution": {
          "iopub.execute_input": "2025-04-28T17:17:00.348472Z",
          "iopub.status.busy": "2025-04-28T17:17:00.347853Z",
          "iopub.status.idle": "2025-04-28T17:17:36.364486Z",
          "shell.execute_reply": "2025-04-28T17:17:36.363054Z",
          "shell.execute_reply.started": "2025-04-28T17:17:00.348433Z"
        },
        "tags": [],
        "id": "5UM8WVSS5P3V",
        "outputId": "e29c2aeb-38a0-45c5-82b1-11109f05e227"
      },
      "outputs": [
        {
          "data": {
            "text/plain": [
              "('style_classifier/tokenizer_config.json',\n",
              " 'style_classifier/special_tokens_map.json',\n",
              " 'style_classifier/vocab.txt',\n",
              " 'style_classifier/added_tokens.json')"
            ]
          },
          "execution_count": 18,
          "metadata": {},
          "output_type": "execute_result"
        }
      ],
      "source": [
        "os.makedirs(SAVE_DIR, exist_ok=True)\n",
        "torch.save(model.state_dict(), MODEL_PATH)\n",
        "tokenizer.save_pretrained(SAVE_DIR)"
      ]
    },
    {
      "cell_type": "code",
      "execution_count": null,
      "metadata": {
        "execution": {
          "iopub.execute_input": "2025-04-28T17:22:00.133518Z",
          "iopub.status.busy": "2025-04-28T17:22:00.131090Z",
          "iopub.status.idle": "2025-04-28T17:22:01.897612Z",
          "shell.execute_reply": "2025-04-28T17:22:01.895819Z",
          "shell.execute_reply.started": "2025-04-28T17:22:00.133463Z"
        },
        "tags": [],
        "id": "6L4cNdjP5P3V"
      },
      "outputs": [],
      "source": [
        "model = StyleClassifier()\n",
        "model.load_state_dict(torch.load(MODEL_PATH, map_location=device))\n",
        "model.to(device)\n",
        "model.eval()\n",
        "\n",
        "tokenizer = DistilBertTokenizer.from_pretrained(SAVE_DIR)"
      ]
    },
    {
      "cell_type": "code",
      "execution_count": null,
      "metadata": {
        "execution": {
          "iopub.execute_input": "2025-04-28T17:27:05.618916Z",
          "iopub.status.busy": "2025-04-28T17:27:05.617952Z",
          "iopub.status.idle": "2025-04-28T17:27:05.642117Z",
          "shell.execute_reply": "2025-04-28T17:27:05.640352Z",
          "shell.execute_reply.started": "2025-04-28T17:27:05.618870Z"
        },
        "tags": [],
        "id": "xFZZBQ5I5P3V"
      },
      "outputs": [],
      "source": [
        "def predict_style(texts, return_probs=False):\n",
        "    encodings = tokenizer(texts, padding=True, truncation=True, max_length=MAX_LENGTH, return_tensors=\"pt\")\n",
        "    input_ids = encodings['input_ids'].to(device)\n",
        "    attention_mask = encodings['attention_mask'].to(device)\n",
        "\n",
        "    with torch.no_grad():\n",
        "        logits = model(input_ids, attention_mask)\n",
        "        probs = torch.softmax(logits, dim=1)\n",
        "\n",
        "    if return_probs:\n",
        "        return probs.cpu().numpy()\n",
        "    else:\n",
        "        preds = torch.argmax(probs, dim=1)\n",
        "        return preds.cpu().numpy()\n"
      ]
    },
    {
      "cell_type": "code",
      "execution_count": null,
      "metadata": {
        "execution": {
          "iopub.execute_input": "2025-04-28T17:28:46.941260Z",
          "iopub.status.busy": "2025-04-28T17:28:46.939814Z",
          "iopub.status.idle": "2025-04-28T17:28:46.980317Z",
          "shell.execute_reply": "2025-04-28T17:28:46.978740Z",
          "shell.execute_reply.started": "2025-04-28T17:28:46.941208Z"
        },
        "tags": [],
        "colab": {
          "base_uri": "https://localhost:8080/"
        },
        "id": "ShHNmomZ5P3V",
        "outputId": "0424d5e0-34c7-498b-fcd9-1420fa4caf1c"
      },
      "outputs": [
        {
          "output_type": "execute_result",
          "data": {
            "text/plain": [
              "(array([[0.99698526, 0.00301473]], dtype=float32),\n",
              " array([[0.19649537, 0.8035046 ]], dtype=float32))"
            ]
          },
          "metadata": {},
          "execution_count": 26
        }
      ],
      "source": [
        "conv_text = \"Было же время, всё было как будто чище, легче. Дышалось. Не знаю, как объяснить — но тогда просто жил и не думал, зачем. И это было нормально. а теперь всё как будто через фильтр, чужой.\"\n",
        "lit_text = \"Он вспоминал то время не как череду событий, а как состояние: утро, в котором не нужно ничего решать. Пустота, от которой не страшно. Тогда он просто существовал — не объясняя себе зачем. Теперь всё иначе, и в этом иначе не было покоя.\"\n",
        "predict_style(conv_text, return_probs=True), predict_style(lit_text, return_probs=True)"
      ]
    },
    {
      "cell_type": "code",
      "execution_count": null,
      "metadata": {
        "execution": {
          "iopub.execute_input": "2025-04-28T17:24:51.881883Z",
          "iopub.status.busy": "2025-04-28T17:24:51.880903Z",
          "iopub.status.idle": "2025-04-28T17:24:51.924494Z",
          "shell.execute_reply": "2025-04-28T17:24:51.923085Z",
          "shell.execute_reply.started": "2025-04-28T17:24:51.881836Z"
        },
        "tags": [],
        "id": "R02ybaVM5P3V"
      },
      "outputs": [],
      "source": [
        "def style_loss(predicted_texts, target_style_label):\n",
        "    # Токенизация\n",
        "    encodings = tokenizer(predicted_texts, padding=True, truncation=True, max_length=96, return_tensors='pt').to(device)\n",
        "\n",
        "    with torch.no_grad():\n",
        "        logits = model(encodings['input_ids'], encodings['attention_mask'])\n",
        "\n",
        "    target_labels = torch.full((logits.size(0),), target_style_label, dtype=torch.long, device=device)\n",
        "\n",
        "    loss = F.cross_entropy(logits, target_labels)\n",
        "    return loss\n"
      ]
    },
    {
      "cell_type": "code",
      "execution_count": null,
      "metadata": {
        "execution": {
          "iopub.execute_input": "2025-04-28T17:25:05.212885Z",
          "iopub.status.busy": "2025-04-28T17:25:05.212131Z",
          "iopub.status.idle": "2025-04-28T17:25:05.259767Z",
          "shell.execute_reply": "2025-04-28T17:25:05.258219Z",
          "shell.execute_reply.started": "2025-04-28T17:25:05.212840Z"
        },
        "tags": [],
        "id": "_a2cP_Jl5P3V",
        "outputId": "f98137a4-ff9b-4e77-c083-0efda9264e91"
      },
      "outputs": [
        {
          "data": {
            "text/plain": [
              "tensor(2.1934e-05, device='cuda:0')"
            ]
          },
          "execution_count": 30,
          "metadata": {},
          "output_type": "execute_result"
        }
      ],
      "source": [
        "style_loss(text, 0)"
      ]
    },
    {
      "cell_type": "code",
      "execution_count": null,
      "metadata": {
        "id": "CPlaulyN5P3V"
      },
      "outputs": [],
      "source": []
    }
  ],
  "metadata": {
    "colab": {
      "provenance": []
    },
    "kernelspec": {
      "display_name": "DataSphere Kernel",
      "language": "python",
      "name": "python3"
    },
    "language_info": {
      "codemirror_mode": {
        "name": "ipython",
        "version": 3
      },
      "file_extension": ".py",
      "mimetype": "text/x-python",
      "name": "python",
      "nbconvert_exporter": "python",
      "pygments_lexer": "ipython3",
      "version": "3.10.12"
    }
  },
  "nbformat": 4,
  "nbformat_minor": 0
}